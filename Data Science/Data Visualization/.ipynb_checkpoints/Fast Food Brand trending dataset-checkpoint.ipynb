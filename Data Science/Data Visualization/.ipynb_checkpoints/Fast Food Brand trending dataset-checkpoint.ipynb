{
 "cells": [
  {
   "cell_type": "code",
   "execution_count": 47,
   "id": "b2c2ee8d",
   "metadata": {},
   "outputs": [],
   "source": [
    "import pandas as pd\n",
    "import numpy as np\n",
    "import matplotlib.pyplot as plt\n",
    "import random\n",
    "import matplotlib.animation as animation\n",
    "import plotly.express as px\n",
    "from pytrends.request import TrendReq\n",
    "import pandas as pd\n",
    "import csv\n",
    "import plotly.io as pio\n",
    "import time\n",
    "import math\n",
    "pio.renderers.default = 'iframe'"
   ]
  },
  {
   "cell_type": "code",
   "execution_count": 38,
   "id": "8e5e1354",
   "metadata": {},
   "outputs": [
    {
     "name": "stdout",
     "output_type": "stream",
     "text": [
      "0.35873402356345585\n"
     ]
    }
   ],
   "source": [
    "print(random.random())"
   ]
  },
  {
   "cell_type": "code",
   "execution_count": 2,
   "id": "f8debd7e",
   "metadata": {},
   "outputs": [
    {
     "name": "stdout",
     "output_type": "stream",
     "text": [
      "[\"mcdonald's\", 'starbucks', 'subway', 'taco bell', 'chick-fil-a', \"wendy's\", 'burger king', \"dunkin'\", \"domino's\", 'panera bread', 'pizza hut', 'chipotle', 'sonic drive-in', 'kfc', \"arby's\", 'little caesars', 'dairy queen', 'jack in the box', 'panda express', 'popeyes', \"papa john's\", 'whataburger', \"jimmy john's\", \"hardee's\", \"zaxby's\", 'five guys', \"culver's\", \"carl's jr.\", \"bojangles'\", 'wingstop', \"raising cane's\", \"jersey mike's\", \"steak 'n' shake\", 'in-n-out burger', 'el pollo loco', 'qdoba', \"checkers/rally's\", 'del taco', 'firehouse subs', \"papa murphy's\", 'tim hortons', \"church's chicken\", \"moe's\", \"mcalister's deli\", \"jason's deli\", \"marco's pizza\", 'baskin-robbins', \"auntie anne's\", 'boston market']\n"
     ]
    }
   ],
   "source": [
    "top_50_fast_food_list = []\n",
    "with open('us-top-50-fast-food.csv', newline='') as f:\n",
    "    for row in csv.reader(f):\n",
    "        top_50_fast_food_list.append(row[0].lower())\n",
    "\n",
    "print(top_50_fast_food_list)\n"
   ]
  },
  {
   "cell_type": "code",
   "execution_count": 3,
   "id": "683d67c4",
   "metadata": {},
   "outputs": [],
   "source": [
    "pytrends = TrendReq(hl='en-US', tz=360) \n",
    "\n",
    "# build payload\n",
    "\n",
    "# pytrends.build_payload(top_50_fast_food_list, cat=0, timeframe='today 12-m') \n",
    "\n",
    "kw_list = [\"mcdonald's\", 'starbucks', 'subway', 'taco bell', 'chick-fil-a'] # at most 5 brands at a time\n",
    "\n",
    "pytrends.build_payload(kw_list, cat=0, timeframe='today 12-m') "
   ]
  },
  {
   "cell_type": "code",
   "execution_count": 41,
   "id": "c0ff1629",
   "metadata": {},
   "outputs": [
    {
     "name": "stdout",
     "output_type": "stream",
     "text": [
      "         date   0    1    2     3  isPartial\n",
      "0  2021-05-23  12   44   19    79      False\n",
      "1  2021-05-30  13   40   23    79      False\n",
      "2  2021-06-06  14   43   20    75      False\n",
      "3  2021-06-13  13   41   19    78      False\n",
      "4  2021-06-20  14   47   21    78      False\n",
      "5  2021-06-27  13   47   21    83      False\n",
      "6  2021-07-04  13   44   21    80      False\n",
      "7  2021-07-11  13   44   21    78      False\n",
      "8  2021-07-18  13   44   22    79      False\n",
      "9  2021-07-25  12   42   21    78      False\n",
      "10 2021-08-01  12   42   20    77      False\n",
      "11 2021-08-08  12   41   21    75      False\n",
      "12 2021-08-15  12   42   22    75      False\n",
      "13 2021-08-22  12   42   23    74      False\n",
      "14 2021-08-29  12   39   19    71      False\n",
      "15 2021-09-05  12   36   20    69      False\n",
      "16 2021-09-12  11   38   19    72      False\n",
      "17 2021-09-19  11   36   19    73      False\n",
      "18 2021-09-26  11   35   20    70      False\n",
      "19 2021-10-03  11   36   19    69      False\n",
      "20 2021-10-10  12   37   19    73      False\n",
      "21 2021-10-17  12   36   19    70      False\n",
      "22 2021-10-24  12   37   19    72      False\n",
      "23 2021-10-31  12   39   19    75      False\n",
      "24 2021-11-07  13   35   19    68      False\n",
      "25 2021-11-14  12   35   18    71      False\n",
      "26 2021-11-21  12   36   23    70      False\n",
      "27 2021-11-28  12   46   16    68      False\n",
      "28 2021-12-05  12   37   17    73      False\n",
      "29 2021-12-12  12   36   18    76      False\n",
      "30 2021-12-19  14   41   26    85      False\n",
      "31 2021-12-26  14   44   20   100      False\n",
      "32 2022-01-02  12   37   17    78      False\n",
      "33 2022-01-09  11   36   16    71      False\n",
      "34 2022-01-16  12   34   17    72      False\n",
      "35 2022-01-23  11   34   17    70      False\n",
      "36 2022-01-30  12   35   18    73      False\n",
      "37 2022-02-06  11   34   18    67      False\n",
      "38 2022-02-13  12   34   17    73      False\n",
      "39 2022-02-20  12   35   17    67      False\n",
      "40 2022-02-27   9   35   17    68      False\n",
      "41 2022-03-06   8   36   17    70      False\n",
      "42 2022-03-13   8   37   17    70      False\n",
      "43 2022-03-20   8   37   17    68      False\n",
      "44 2022-03-27   7   36   17    65      False\n",
      "45 2022-04-03   8   36   17    64      False\n",
      "46 2022-04-10   7   40   18    69      False\n",
      "47 2022-04-17   8   39   19    65      False\n",
      "48 2022-04-24   8   36   18    67      False\n",
      "49 2022-05-01   8   39   19    70      False\n",
      "50 2022-05-08   7   35   18    66      False\n",
      "51 2022-05-15   8   35   16    69       True\n"
     ]
    }
   ],
   "source": [
    "#1 Interest over Time\n",
    "data = pytrends.interest_over_time() \n",
    "data = data.reset_index() \n",
    "\n",
    "# fig = px.line(data, x=\"date\", y=kw_list, title='Keyword Web Search Interest Over Time')\n",
    "\n",
    "print(data)\n",
    "# fig.show() "
   ]
  },
  {
   "cell_type": "code",
   "execution_count": 42,
   "id": "9eb45500",
   "metadata": {},
   "outputs": [
    {
     "data": {
      "text/plain": [
       "0     False\n",
       "1     False\n",
       "2     False\n",
       "3     False\n",
       "4     False\n",
       "5     False\n",
       "6     False\n",
       "7     False\n",
       "8     False\n",
       "9     False\n",
       "10    False\n",
       "11    False\n",
       "12    False\n",
       "13    False\n",
       "14    False\n",
       "15    False\n",
       "16    False\n",
       "17    False\n",
       "18    False\n",
       "19    False\n",
       "20    False\n",
       "21    False\n",
       "22    False\n",
       "23    False\n",
       "24    False\n",
       "25    False\n",
       "26    False\n",
       "27    False\n",
       "28    False\n",
       "29    False\n",
       "30    False\n",
       "31    False\n",
       "32    False\n",
       "33    False\n",
       "34    False\n",
       "35    False\n",
       "36    False\n",
       "37    False\n",
       "38    False\n",
       "39    False\n",
       "40    False\n",
       "41    False\n",
       "42    False\n",
       "43    False\n",
       "44    False\n",
       "45    False\n",
       "46    False\n",
       "47    False\n",
       "48    False\n",
       "49    False\n",
       "50    False\n",
       "51     True\n",
       "Name: isPartial, dtype: bool"
      ]
     },
     "execution_count": 42,
     "metadata": {},
     "output_type": "execute_result"
    }
   ],
   "source": [
    "data['isPartial']"
   ]
  },
  {
   "cell_type": "code",
   "execution_count": 70,
   "id": "9306828c",
   "metadata": {},
   "outputs": [
    {
     "name": "stdout",
     "output_type": "stream",
     "text": [
      "True\n",
      "batch\n",
      "[\"mcdonald's\", 'starbucks', 'subway', 'taco bell', 'chick-fil-a']\n",
      "In data\n",
      "is empty in here\n",
      "batch\n",
      "[\"wendy's\", 'burger king', \"dunkin'\", \"domino's\"]\n",
      "In data\n",
      "         date  mcdonald's  starbucks  subway  taco bell  chick-fil-a  \\\n",
      "0  2021-05-23          77         64      42         27            2   \n",
      "1  2021-05-30          78         68      43         28            3   \n",
      "2  2021-06-06          69         62      41         27            2   \n",
      "3  2021-06-13          69         66      42         27            2   \n",
      "4  2021-06-20          69         64      46         27            2   \n",
      "5  2021-06-27          72         64      45         27            2   \n",
      "6  2021-07-04          73         66      46         28            2   \n",
      "7  2021-07-11          73         66      51         28            2   \n",
      "8  2021-07-18          73         67      48         31            2   \n",
      "9  2021-07-25          74         65      46         30            2   \n",
      "10 2021-08-01          70         65      43         28            2   \n",
      "11 2021-08-08          69         65      43         27            2   \n",
      "12 2021-08-15          70         67      43         27            2   \n",
      "13 2021-08-22          76         81      44         28            2   \n",
      "14 2021-08-29          76         72      44         27            2   \n",
      "15 2021-09-05          72         69      41         28            2   \n",
      "16 2021-09-12          70         69      42         27            2   \n",
      "17 2021-09-19          70         71      41         25            2   \n",
      "18 2021-09-26          68         71      40         26            2   \n",
      "19 2021-10-03          67         69      41         27            2   \n",
      "20 2021-10-10          70         69      40         29            2   \n",
      "21 2021-10-17          67         67      41         26            2   \n",
      "22 2021-10-24          63         67      37         26            2   \n",
      "23 2021-10-31          66         83      41         28            2   \n",
      "24 2021-11-07          61         81      39         25            2   \n",
      "25 2021-11-14          62         92      39         26            2   \n",
      "26 2021-11-21          69         88      36         26            2   \n",
      "27 2021-11-28          58         69      38         25            2   \n",
      "28 2021-12-05          62         72      38         26            2   \n",
      "29 2021-12-12          63         74      40         26            2   \n",
      "30 2021-12-19          84        100      40         31            2   \n",
      "31 2021-12-26          90         93      43         33            2   \n",
      "32 2022-01-02          63         76      43         41            2   \n",
      "33 2022-01-09          58         66      41         40            2   \n",
      "34 2022-01-16          57         68      42         28            2   \n",
      "35 2022-01-23          58         67      39         26            2   \n",
      "36 2022-01-30          61         67      40         26            2   \n",
      "37 2022-02-06          60         65      41         27            2   \n",
      "38 2022-02-13          59         62      41         26            2   \n",
      "39 2022-02-20          56         63      41         26            2   \n",
      "40 2022-02-27          58         65      45         26            2   \n",
      "41 2022-03-06          59         66      43         26            2   \n",
      "42 2022-03-13          61         65      44         27            2   \n",
      "43 2022-03-20          57         65      45         28            2   \n",
      "44 2022-03-27          56         65      45         26            2   \n",
      "45 2022-04-03          57         65      44         27            2   \n",
      "46 2022-04-10          63         68      74         28            2   \n",
      "47 2022-04-17          63         69      48         33            2   \n",
      "48 2022-04-24          57         66      47         29            2   \n",
      "49 2022-05-01          55         71      48         31            2   \n",
      "50 2022-05-08          55         68      52         29            2   \n",
      "51 2022-05-15          59         70      62         27            2   \n",
      "\n",
      "    isPartial_x  wendy's  burger king  dunkin'  domino's  isPartial_y  \n",
      "0         False       12           44       19        79        False  \n",
      "1         False       13           40       23        79        False  \n",
      "2         False       14           43       20        75        False  \n",
      "3         False       13           41       19        78        False  \n",
      "4         False       14           47       21        78        False  \n",
      "5         False       13           47       21        83        False  \n",
      "6         False       13           44       21        80        False  \n",
      "7         False       13           44       21        78        False  \n",
      "8         False       13           44       22        79        False  \n",
      "9         False       12           42       21        78        False  \n",
      "10        False       12           42       20        77        False  \n",
      "11        False       12           41       21        75        False  \n",
      "12        False       12           42       22        75        False  \n",
      "13        False       12           42       23        74        False  \n",
      "14        False       12           39       19        71        False  \n",
      "15        False       12           36       20        69        False  \n",
      "16        False       11           38       19        72        False  \n",
      "17        False       11           36       19        73        False  \n",
      "18        False       11           35       20        70        False  \n",
      "19        False       11           36       19        69        False  \n",
      "20        False       12           37       19        73        False  \n",
      "21        False       12           36       19        70        False  \n",
      "22        False       12           37       19        72        False  \n",
      "23        False       12           39       19        75        False  \n",
      "24        False       13           35       19        68        False  \n",
      "25        False       12           35       18        71        False  \n",
      "26        False       12           36       23        70        False  \n",
      "27        False       12           46       16        68        False  \n",
      "28        False       12           37       17        73        False  \n",
      "29        False       12           36       18        76        False  \n",
      "30        False       14           41       26        85        False  \n",
      "31        False       14           44       20       100        False  \n",
      "32        False       12           37       17        78        False  \n",
      "33        False       11           36       16        71        False  \n",
      "34        False       12           34       17        72        False  \n",
      "35        False       11           34       17        70        False  \n",
      "36        False       12           35       18        73        False  \n",
      "37        False       11           34       18        67        False  \n",
      "38        False       12           34       17        73        False  \n",
      "39        False       12           35       17        67        False  \n",
      "40        False        9           35       17        68        False  \n",
      "41        False        8           36       17        70        False  \n",
      "42        False        8           37       17        70        False  \n",
      "43        False        8           37       17        68        False  \n",
      "44        False        7           36       17        65        False  \n",
      "45        False        8           36       17        64        False  \n",
      "46        False        7           40       18        69        False  \n",
      "47        False        8           39       19        65        False  \n",
      "48        False        8           36       18        67        False  \n",
      "49        False        8           39       19        70        False  \n",
      "50        False        7           35       18        66        False  \n",
      "51         True        8           35       16        69         True  \n"
     ]
    }
   ],
   "source": [
    "date_col = []\n",
    "temp_data = pd.DataFrame() \n",
    "print(temp_data.empty)\n",
    "\n",
    "def get_search_interest_over_time(pytrends, whole_list, timeframe='today 12-m'):\n",
    "    for i in range(math.floor(len(whole_list)/5) + 1):\n",
    "        batch_list = whole_list[i*5:i*5+5]\n",
    "        print(\"batch\")\n",
    "        print(batch_list)\n",
    "        get_batch_data(pytrends, batch_list, timeframe)\n",
    "        time.sleep(4)\n",
    "\n",
    "        \n",
    "def get_batch_data(pytrends, keyword_list, timeframe):\n",
    "    global temp_data\n",
    "    pytrends.build_payload(keyword_list, cat=0, timeframe=timeframe)\n",
    "    df = pytrends.interest_over_time() \n",
    "    df = df.reset_index() \n",
    "    print(\"In data\")\n",
    "#     print(df)\n",
    "    \n",
    "    # Col: {index, date, brand1...brand5, isPartial}\n",
    "    # Remove the row with isPartial = True\n",
    "    \n",
    "    #select columns in index range [1:len(df.columns)-1]\n",
    "#     only_search_interest_cols = df.iloc[:, 1:len(df.columns)-1]\n",
    "#     print(only_search_interest_cols)\n",
    "    # TODO: remove isPartial col\n",
    "    if temp_data.empty:\n",
    "        print(\"is empty in here\")\n",
    "        temp_data = df\n",
    "    else:\n",
    "        output_merged = pd.merge(temp_data, df, on=[\"date\"])\n",
    "        temp_data = output_merged\n",
    "        print(output_merged)\n",
    "    \n",
    "\n",
    "kw_list = [\"mcdonald's\", 'starbucks', 'subway', 'taco bell', 'chick-fil-a', \"wendy's\", 'burger king', \"dunkin'\", \"domino's\"] # at most 5 brands at a time\n",
    "    \n",
    "# hl = hosting language\n",
    "# tz = timezone, 360 is US timezone\n",
    "pytrends = TrendReq(hl='en-US', tz=360) \n",
    "get_search_interest_over_time(pytrends, kw_list)   # By default, using last year as timeframe\n",
    "    "
   ]
  },
  {
   "cell_type": "code",
   "execution_count": 32,
   "id": "f611c79d",
   "metadata": {},
   "outputs": [
    {
     "name": "stdout",
     "output_type": "stream",
     "text": [
      "0\n",
      "[1, 2, 3, 4]\n",
      "1\n",
      "[6, 7]\n"
     ]
    }
   ],
   "source": [
    "lst = [1,2,3,4,5,6,7]\n",
    "for i in range(round(len(lst)/5) + 1):\n",
    "    print(lst[i*5 : i*5+4])"
   ]
  },
  {
   "cell_type": "code",
   "execution_count": 24,
   "id": "a2c0b7b6",
   "metadata": {},
   "outputs": [
    {
     "name": "stdout",
     "output_type": "stream",
     "text": [
      "(1, 3)\n",
      "(2, 4)\n",
      "(3, 1)\n",
      "(2, 7)\n"
     ]
    }
   ],
   "source": [
    "nums = [1,3,2,4,3,1,2,7]\n",
    "for i in zip(*[iter(nums)]*2):\n",
    "    print(i)"
   ]
  },
  {
   "cell_type": "code",
   "execution_count": 64,
   "id": "247fb0ba",
   "metadata": {},
   "outputs": [
    {
     "data": {
      "text/plain": [
       "True"
      ]
     },
     "execution_count": 64,
     "metadata": {},
     "output_type": "execute_result"
    }
   ],
   "source": [
    "df = pd.DataFrame()   \n",
    "\n",
    "df.empty"
   ]
  }
 ],
 "metadata": {
  "kernelspec": {
   "display_name": "Python 3 (ipykernel)",
   "language": "python",
   "name": "python3"
  },
  "language_info": {
   "codemirror_mode": {
    "name": "ipython",
    "version": 3
   },
   "file_extension": ".py",
   "mimetype": "text/x-python",
   "name": "python",
   "nbconvert_exporter": "python",
   "pygments_lexer": "ipython3",
   "version": "3.9.7"
  }
 },
 "nbformat": 4,
 "nbformat_minor": 5
}
