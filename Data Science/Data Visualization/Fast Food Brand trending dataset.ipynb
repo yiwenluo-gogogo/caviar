{
 "cells": [
  {
   "cell_type": "code",
   "execution_count": 64,
   "id": "b2c2ee8d",
   "metadata": {},
   "outputs": [],
   "source": [
    "import pandas as pd\n",
    "import numpy as np\n",
    "import matplotlib.pyplot as plt\n",
    "import random\n",
    "import matplotlib.animation as animation\n",
    "import plotly.express as px\n",
    "from pytrends.request import TrendReq\n",
    "import pandas as pd\n",
    "import csv\n",
    "import plotly.io as pio\n",
    "pio.renderers.default = 'iframe'"
   ]
  },
  {
   "cell_type": "code",
   "execution_count": 38,
   "id": "8e5e1354",
   "metadata": {},
   "outputs": [
    {
     "name": "stdout",
     "output_type": "stream",
     "text": [
      "0.35873402356345585\n"
     ]
    }
   ],
   "source": [
    "print(random.random())"
   ]
  },
  {
   "cell_type": "code",
   "execution_count": 39,
   "id": "f8debd7e",
   "metadata": {},
   "outputs": [
    {
     "name": "stdout",
     "output_type": "stream",
     "text": [
      "[\"mcdonald's\", 'starbucks', 'subway', 'taco bell', 'chick-fil-a', \"wendy's\", 'burger king', \"dunkin'\", \"domino's\", 'panera bread', 'pizza hut', 'chipotle', 'sonic drive-in', 'kfc', \"arby's\", 'little caesars', 'dairy queen', 'jack in the box', 'panda express', 'popeyes', \"papa john's\", 'whataburger', \"jimmy john's\", \"hardee's\", \"zaxby's\", 'five guys', \"culver's\", \"carl's jr.\", \"bojangles'\", 'wingstop', \"raising cane's\", \"jersey mike's\", \"steak 'n' shake\", 'in-n-out burger', 'el pollo loco', 'qdoba', \"checkers/rally's\", 'del taco', 'firehouse subs', \"papa murphy's\", 'tim hortons', \"church's chicken\", \"moe's\", \"mcalister's deli\", \"jason's deli\", \"marco's pizza\", 'baskin-robbins', \"auntie anne's\", 'boston market']\n"
     ]
    }
   ],
   "source": [
    "top_50_fast_food_list = []\n",
    "with open('us-top-50-fast-food.csv', newline='') as f:\n",
    "    for row in csv.reader(f):\n",
    "        top_50_fast_food_list.append(row[0].lower())\n",
    "\n",
    "print(top_50_fast_food_list)\n"
   ]
  },
  {
   "cell_type": "code",
   "execution_count": 81,
   "id": "683d67c4",
   "metadata": {},
   "outputs": [],
   "source": [
    "pytrends = TrendReq(hl='en-US', tz=360) \n",
    "\n",
    "# build payload\n",
    "\n",
    "# pytrends.build_payload(top_50_fast_food_list, cat=0, timeframe='today 12-m') \n",
    "\n",
    "kw_list = [\"mcdonald's\", 'starbucks', 'subway', 'taco bell', 'chick-fil-a'] # at most 5 brands at a time\n",
    "\n",
    "pytrends.build_payload(kw_list, cat=0, timeframe='today 12-m') "
   ]
  },
  {
   "cell_type": "code",
   "execution_count": 82,
   "id": "c0ff1629",
   "metadata": {},
   "outputs": [
    {
     "name": "stdout",
     "output_type": "stream",
     "text": [
      "         date  mcdonald's  starbucks  subway  taco bell  chick-fil-a  \\\n",
      "0  2021-05-16          64         64      41         25            2   \n",
      "1  2021-05-23          77         64      42         27            2   \n",
      "2  2021-05-30          77         68      42         28            3   \n",
      "3  2021-06-06          69         62      41         27            2   \n",
      "4  2021-06-13          68         65      42         27            2   \n",
      "5  2021-06-20          69         64      46         27            2   \n",
      "6  2021-06-27          72         64      45         27            2   \n",
      "7  2021-07-04          73         65      45         28            2   \n",
      "8  2021-07-11          72         65      51         28            2   \n",
      "9  2021-07-18          73         67      48         31            2   \n",
      "10 2021-07-25          73         65      45         30            2   \n",
      "11 2021-08-01          70         65      43         28            2   \n",
      "12 2021-08-08          69         64      43         27            2   \n",
      "13 2021-08-15          69         66      43         27            2   \n",
      "14 2021-08-22          75         80      43         28            2   \n",
      "15 2021-08-29          76         71      44         27            2   \n",
      "16 2021-09-05          72         69      41         28            2   \n",
      "17 2021-09-12          69         68      41         27            2   \n",
      "18 2021-09-19          70         71      41         25            2   \n",
      "19 2021-09-26          67         71      40         25            2   \n",
      "20 2021-10-03          67         68      40         27            2   \n",
      "21 2021-10-10          70         68      39         28            2   \n",
      "22 2021-10-17          66         67      41         26            2   \n",
      "23 2021-10-24          63         66      37         25            2   \n",
      "24 2021-10-31          65         83      41         27            2   \n",
      "25 2021-11-07          61         80      39         25            2   \n",
      "26 2021-11-14          62         91      39         26            2   \n",
      "27 2021-11-21          69         87      36         26            2   \n",
      "28 2021-11-28          58         69      38         25            2   \n",
      "29 2021-12-05          62         71      38         26            2   \n",
      "30 2021-12-12          63         73      39         26            2   \n",
      "31 2021-12-19          83        100      40         31            2   \n",
      "32 2021-12-26          89         93      42         33            2   \n",
      "33 2022-01-02          63         75      43         41            2   \n",
      "34 2022-01-09          58         66      41         40            2   \n",
      "35 2022-01-16          56         67      41         28            2   \n",
      "36 2022-01-23          58         66      39         26            2   \n",
      "37 2022-01-30          60         66      40         26            2   \n",
      "38 2022-02-06          60         64      41         26            2   \n",
      "39 2022-02-13          59         61      41         26            2   \n",
      "40 2022-02-20          56         63      41         26            2   \n",
      "41 2022-02-27          57         65      45         26            2   \n",
      "42 2022-03-06          59         66      43         26            2   \n",
      "43 2022-03-13          61         65      44         27            2   \n",
      "44 2022-03-20          57         64      45         27            2   \n",
      "45 2022-03-27          56         64      45         26            2   \n",
      "46 2022-04-03          57         64      44         27            2   \n",
      "47 2022-04-10          62         68      74         28            2   \n",
      "48 2022-04-17          63         68      48         33            2   \n",
      "49 2022-04-24          57         66      47         29            2   \n",
      "50 2022-05-01          55         71      47         30            2   \n",
      "51 2022-05-08          58         83      37         28            1   \n",
      "\n",
      "    isPartial  \n",
      "0       False  \n",
      "1       False  \n",
      "2       False  \n",
      "3       False  \n",
      "4       False  \n",
      "5       False  \n",
      "6       False  \n",
      "7       False  \n",
      "8       False  \n",
      "9       False  \n",
      "10      False  \n",
      "11      False  \n",
      "12      False  \n",
      "13      False  \n",
      "14      False  \n",
      "15      False  \n",
      "16      False  \n",
      "17      False  \n",
      "18      False  \n",
      "19      False  \n",
      "20      False  \n",
      "21      False  \n",
      "22      False  \n",
      "23      False  \n",
      "24      False  \n",
      "25      False  \n",
      "26      False  \n",
      "27      False  \n",
      "28      False  \n",
      "29      False  \n",
      "30      False  \n",
      "31      False  \n",
      "32      False  \n",
      "33      False  \n",
      "34      False  \n",
      "35      False  \n",
      "36      False  \n",
      "37      False  \n",
      "38      False  \n",
      "39      False  \n",
      "40      False  \n",
      "41      False  \n",
      "42      False  \n",
      "43      False  \n",
      "44      False  \n",
      "45      False  \n",
      "46      False  \n",
      "47      False  \n",
      "48      False  \n",
      "49      False  \n",
      "50      False  \n",
      "51       True  \n"
     ]
    },
    {
     "data": {
      "text/html": [
       "<iframe\n",
       "    scrolling=\"no\"\n",
       "    width=\"100%\"\n",
       "    height=\"545px\"\n",
       "    src=\"iframe_figures/figure_82.html\"\n",
       "    frameborder=\"0\"\n",
       "    allowfullscreen\n",
       "></iframe>\n"
      ]
     },
     "metadata": {},
     "output_type": "display_data"
    }
   ],
   "source": [
    "#1 Interest over Time\n",
    "data = pytrends.interest_over_time() \n",
    "data = data.reset_index() \n",
    "\n",
    "fig = px.line(data, x=\"date\", y=kw_list, title='Keyword Web Search Interest Over Time')\n",
    "\n",
    "print(data)\n",
    "fig.show() "
   ]
  }
 ],
 "metadata": {
  "kernelspec": {
   "display_name": "Python 3 (ipykernel)",
   "language": "python",
   "name": "python3"
  },
  "language_info": {
   "codemirror_mode": {
    "name": "ipython",
    "version": 3
   },
   "file_extension": ".py",
   "mimetype": "text/x-python",
   "name": "python",
   "nbconvert_exporter": "python",
   "pygments_lexer": "ipython3",
   "version": "3.9.7"
  }
 },
 "nbformat": 4,
 "nbformat_minor": 5
}
